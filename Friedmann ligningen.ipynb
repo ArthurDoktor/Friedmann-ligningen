{
 "cells": [
  {
   "cell_type": "markdown",
   "id": "3dd40fe8",
   "metadata": {},
   "source": [
    "# Friedmann ligningen"
   ]
  },
  {
   "cell_type": "markdown",
   "id": "860e86b9",
   "metadata": {},
   "source": [
    "I denne notebook vil der regnes på friedman ligningen for en model af et univers der kun består af stof og mærk energi, men med krumning. Sådan en model er interresant, da målinger fra \"Planck 2015 results. XIII. Cosmological parameters\". Modellen bygger på Friedmann ligning der kan skrives som \n",
    "\\begin{align}\n",
    "    H^2=H_0^2\\left(\\frac{\\Omega _R}{a^4}0\\frac{\\Omega_M}{a^3}+\\Omega_{\\Lambda}+\\frac{1-\\Omega_0}{a^2}\\right),\n",
    "\\end{align}\n",
    "hvor $a$ er skala faktoren, $H\\equiv\\frac{\\dot{a}}{a}$, $H_0$ er Hubble konstanten, $\\Omega_R$ er strålings densiteten delt med den kritiske densitet, $\\Omega_M$ og $\\Omega_{\\Lambda}$ er ligeledes stof og mørk energi densiteterne delt med den kritiske densitet, og den sidste konstant $\\Omega_0=\\Omega_r+\\Omega_M+\\Omega_{\\Lambda}$ er et mål for universets krumning, hvor $\\Omega_0=1$ svarer til et fladt univers, $\\Omega>1$ svarer til univers med positiv krumning og $\\Omega_{\\Lambda}<1$ svare til et univers med negativ krumning."
   ]
  },
  {
   "cell_type": "markdown",
   "id": "22e1f92d",
   "metadata": {},
   "source": [
    "Den kosmiske tid, $t$, kan findes som funktion af $a$ ved at beregne integralet\n",
    "\\begin{align}\n",
    "    \\int_{0}^{a}\\frac{da}{\\left[\\Omega_R/a^2+\\Omega_M/a+\\Omega_{\\Lambda}a^2+(1-\\Omega_0)\\right]^{1/2}}=H_0t\n",
    "\\end{align}\n",
    "Formålet med dette skript er at løse ovenstående integral numerisk."
   ]
  },
  {
   "cell_type": "markdown",
   "id": "97a4994f",
   "metadata": {},
   "source": [
    "Der benyttes følgende biblioteker"
   ]
  },
  {
   "cell_type": "code",
   "execution_count": 34,
   "id": "96824f5c",
   "metadata": {},
   "outputs": [],
   "source": [
    "from scipy.integrate import quad\n",
    "import matplotlib.pyplot as plt\n",
    "import numpy as np"
   ]
  },
  {
   "cell_type": "markdown",
   "id": "3056ed91",
   "metadata": {},
   "source": [
    "Dernæst definere vi funktionen som vi vil integrere"
   ]
  },
  {
   "cell_type": "code",
   "execution_count": 62,
   "id": "a7e90ffd",
   "metadata": {},
   "outputs": [],
   "source": [
    "def f(a):\n",
    "    Omega = R + L + M\n",
    "    return (R/a**2+M/a+L*a**2+(1-Omega))**(-1/2)"
   ]
  },
  {
   "cell_type": "markdown",
   "id": "d599f74c",
   "metadata": {},
   "source": [
    "Vi skal bruge nogle lister hvor de beregnede værdier kan lagres"
   ]
  },
  {
   "cell_type": "code",
   "execution_count": 89,
   "id": "f726f969",
   "metadata": {},
   "outputs": [],
   "source": [
    "b=3\n",
    "N = 100\n",
    "Lista = np.linspace(0,b,num=N)\n",
    "Listt1 = np.linspace(0,0,num=N)\n",
    "Listt2 = np.linspace(0,0,num=N)\n",
    "Listt3 = np.linspace(0,0,num=N)\n"
   ]
  },
  {
   "cell_type": "code",
   "execution_count": 90,
   "id": "dc7e10e7",
   "metadata": {},
   "outputs": [
    {
     "name": "stdout",
     "output_type": "stream",
     "text": [
      "1.3048107908487669e-08\n",
      "1.4275919750639169e-08\n",
      "1.1888645786484497e-08\n"
     ]
    }
   ],
   "source": [
    "i = 1\n",
    "R = 9.0*10**(-5)\n",
    "L = 0.6911\n",
    "M = 0.3089\n",
    "while i < N:\n",
    "    Listt1[i] = quad(f, 0, Lista[i])[0]\n",
    "    i += 1\n",
    "print(quad(f, 0, 3)[1])\n",
    "i = 1\n",
    "R = 9.0*10**(-5)\n",
    "L = 0.6911+0.0062\n",
    "M = 0.3089+0.0062\n",
    "while i < N:\n",
    "    Listt2[i] = quad(f, 0, Lista[i])[0]\n",
    "    i += 1\n",
    "print(quad(f, 0, 3)[1])\n",
    "i = 1\n",
    "R = 9.0*10**(-5)\n",
    "L = 0.6911-0.0062\n",
    "M = 0.3089-0.0062\n",
    "while i < N:\n",
    "    Listt3[i] = quad(f, 0, Lista[i])[0]\n",
    "    i += 1\n",
    "print(quad(f, 0, 3)[1])"
   ]
  },
  {
   "cell_type": "code",
   "execution_count": 91,
   "id": "05340248",
   "metadata": {},
   "outputs": [
    {
     "data": {
      "image/png": "[encoded data removed]",
      "text/plain": [
       "<Figure size 432x288 with 1 Axes>"
      ]
     },
     "metadata": {
      "needs_background": "light"
     },
     "output_type": "display_data"
    }
   ],
   "source": [
    "plt.plot(Listt1,Lista, color='r', label='Flad')\n",
    "plt.plot(Listt2,Lista, color='g', label='Positiv')\n",
    "plt.plot(Listt3,Lista, color='b', label='Negativ')\n",
    "\n",
    "plt.legend()\n",
    "\n",
    "plt.show()"
   ]
  },
  {
   "cell_type": "code",
   "execution_count": 97,
   "id": "d9ad5311",
   "metadata": {},
   "outputs": [
    {
     "name": "stdout",
     "output_type": "stream",
     "text": [
      "1.3048107908487669e-08\n",
      "1.4275919750639169e-08\n",
      "1.1888645786484497e-08\n"
     ]
    },
    {
     "data": {
      "text/plain": [
       "<matplotlib.legend.Legend at 0x189d3841f40>"
      ]
     },
     "execution_count": 97,
     "metadata": {},
     "output_type": "execute_result"
    },
    {
     "data": {
      "image/png": "[encoded data removed]",
      "text/plain": [
       "<Figure size 432x288 with 1 Axes>"
      ]
     },
     "metadata": {
      "needs_background": "light"
     },
     "output_type": "display_data"
    }
   ],
   "source": [
    "b=60\n",
    "N = 100\n",
    "Lista = np.linspace(0,b,num=N)\n",
    "Listt1 = np.linspace(0,0,num=N)\n",
    "Listt2 = np.linspace(0,0,num=N)\n",
    "Listt3 = np.linspace(0,0,num=N)\n",
    "i = 1\n",
    "R = 9.0*10**(-5)\n",
    "L = 0.6911\n",
    "M = 0.3089\n",
    "while i < N:\n",
    "    Listt1[i] = quad(f, 0, Lista[i])[0]\n",
    "    i += 1\n",
    "print(quad(f, 0, 3)[1])\n",
    "i = 1\n",
    "R = 9.0*10**(-5)\n",
    "L = 0.6911+0.0062\n",
    "M = 0.3089+0.0062\n",
    "while i < N:\n",
    "    Listt2[i] = quad(f, 0, Lista[i])[0]\n",
    "    i += 1\n",
    "print(quad(f, 0, 3)[1])\n",
    "i = 1\n",
    "R = 9.0*10**(-5)\n",
    "L = 0.6911-0.0062\n",
    "M = 0.3089-0.0062\n",
    "while i < N:\n",
    "    Listt3[i] = quad(f, 0, Lista[i])[0]\n",
    "    i += 1\n",
    "print(quad(f, 0, 3)[1])\n",
    "plt.plot(Listt1,Lista, color='r', label='Flad')\n",
    "plt.plot(Listt2,Lista, color='g', label='Positiv')\n",
    "plt.plot(Listt3,Lista, color='b', label='Negativ')\n",
    "\n",
    "plt.legend()"
   ]
  },
  {
   "cell_type": "code",
   "execution_count": 93,
   "id": "9e6026e2",
   "metadata": {},
   "outputs": [
    {
     "name": "stdout",
     "output_type": "stream",
     "text": [
      "1.3048107908487669e-08\n",
      "3.723466542026439e-10\n",
      "1.6922974866021793e-09\n"
     ]
    },
    {
     "data": {
      "image/png": "[encoded data removed]",
      "text/plain": [
       "<Figure size 432x288 with 1 Axes>"
      ]
     },
     "metadata": {
      "needs_background": "light"
     },
     "output_type": "display_data"
    }
   ],
   "source": [
    "b=60\n",
    "N = 100\n",
    "Lista = np.linspace(0,b,num=N)\n",
    "Listt1 = np.linspace(0,0,num=N)\n",
    "Listt2 = np.linspace(0,0,num=N)\n",
    "Listt3 = np.linspace(0,0,num=N)\n",
    "i = 1\n",
    "R = 9.0*10**(-5)\n",
    "L = 0.6911\n",
    "M = 0.3089\n",
    "while i < N:\n",
    "    Listt1[i] = quad(f, 0, Lista[i])[0]\n",
    "    i += 1\n",
    "print(quad(f, 0, 3)[1])\n",
    "i = 1\n",
    "R = 9.0*10**(-5)\n",
    "L = 0.6911+0.1\n",
    "M = 0.3089+0.1\n",
    "while i < N:\n",
    "    Listt2[i] = quad(f, 0, Lista[i])[0]\n",
    "    i += 1\n",
    "print(quad(f, 0, 3)[1])\n",
    "i = 1\n",
    "R = 9.0*10**(-5)\n",
    "L = 0.6911-0.1\n",
    "M = 0.3089-0.1\n",
    "while i < N:\n",
    "    Listt3[i] = quad(f, 0, Lista[i])[0]\n",
    "    i += 1\n",
    "print(quad(f, 0, 3)[1])\n",
    "plt.plot(Listt1,Lista, color='r', label='Flad')\n",
    "plt.plot(Listt2,Lista, color='g', label='Positiv')\n",
    "plt.plot(Listt3,Lista, color='b', label='Negativ')\n",
    "\n",
    "plt.legend()\n",
    "\n",
    "plt.show()"
   ]
  },
  {
   "cell_type": "code",
   "execution_count": null,
   "id": "8599a2fc",
   "metadata": {},
   "outputs": [],
   "source": []
  }
 ],
 "metadata": {
  "kernelspec": {
   "display_name": "Python 3",
   "language": "python",
   "name": "python3"
  },
  "language_info": {
   "codemirror_mode": {
    "name": "ipython",
    "version": 3
   },
   "file_extension": ".py",
   "mimetype": "text/x-python",
   "name": "python",
   "nbconvert_exporter": "python",
   "pygments_lexer": "ipython3",
   "version": "3.8.8"
  }
 },
 "nbformat": 4,
 "nbformat_minor": 5
}
