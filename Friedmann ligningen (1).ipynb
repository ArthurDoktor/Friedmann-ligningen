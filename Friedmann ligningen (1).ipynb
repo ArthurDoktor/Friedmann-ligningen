{
 "cells": [
  {
   "cell_type": "markdown",
   "id": "31351105",
   "metadata": {},
   "source": [
    "# Friedmann ligningen"
   ]
  },
  {
   "cell_type": "markdown",
   "id": "cc086b67",
   "metadata": {},
   "source": [
    "I denne notebook vil der regnes på friedman ligningen for en model af et univers der består af stof, stråling og mørk energi, med krumning. Modellen bygger på Friedmann ligning der kan skrives som \n",
    "\\begin{align}\n",
    "    H^2=H_0^2\\left(\\frac{\\Omega _R}{a^4}0\\frac{\\Omega_M}{a^3}+\\Omega_{\\Lambda}+\\frac{1-\\Omega_0}{a^2}\\right),\n",
    "\\end{align}\n",
    "hvor $a$ er skala faktoren, $H\\equiv\\frac{\\dot{a}}{a}$, $H_0$ er Hubble konstanten, $\\Omega_R$ er strålings densiteten delt med den kritiske densitet, $\\Omega_M$ og $\\Omega_{\\Lambda}$ er ligeledes stof og mørk energi densiteterne delt med den kritiske densitet, og den sidste konstant $\\Omega_0=\\Omega_r+\\Omega_M+\\Omega_{\\Lambda}$ er et mål for universets krumning, hvor $\\Omega_0=1$ svarer til et fladt univers, $\\Omega>1$ svarer til univers med positiv krumning og $\\Omega_{\\Lambda}<1$ svare til et univers med negativ krumning. Det vil blibe brugt værdier for $\\Omega_{\\Lambda}$ og $\\Omega_M$ fra \"Planck 2015, p. 32, table 4, last column\", og $\\Omega_R=9.0\\cdot 10^{-5}$ fra bogen Introduction to Cosmology 2nd edition, af Barbara Ryden, Cambridge University Press, 2017. "
   ]
  },
  {
   "cell_type": "markdown",
   "id": "ce1c7b22",
   "metadata": {},
   "source": [
    "Den kosmiske tid, $t$, kan findes som funktion af $a$ ved at beregne integralet\n",
    "\\begin{align}\n",
    "    \\int_{0}^{a}\\frac{da}{\\sqrt{\\Omega_R/a^2+\\Omega_M/a+\\Omega_{\\Lambda}a^2+(1-\\Omega_0)}}=H_0t\n",
    "\\end{align}\n",
    "Formålet med dette skript er at løse ovenstående integral numerisk."
   ]
  },
  {
   "cell_type": "markdown",
   "id": "52ee1dd2",
   "metadata": {},
   "source": [
    "Der benyttes følgende biblioteker"
   ]
  },
  {
   "cell_type": "code",
   "execution_count": 1,
   "id": "c6a1b661",
   "metadata": {},
   "outputs": [],
   "source": [
    "from scipy.integrate import quad\n",
    "import matplotlib.pyplot as plt\n",
    "import numpy as np"
   ]
  },
  {
   "cell_type": "markdown",
   "id": "af3ccef7",
   "metadata": {},
   "source": [
    "Dernæst definere vi funktionen som vi vil integrere"
   ]
  },
  {
   "cell_type": "code",
   "execution_count": 2,
   "id": "66840c83",
   "metadata": {},
   "outputs": [],
   "source": [
    "def f(a):\n",
    "    Omega = R + L + M\n",
    "    return (R/a**2+M/a+L*a**2+(1-Omega))**(-1/2)"
   ]
  },
  {
   "cell_type": "markdown",
   "id": "29108425",
   "metadata": {},
   "source": [
    "Vi skal bruge nogle lister hvor de beregnede værdier kan lagres"
   ]
  },
  {
   "cell_type": "code",
   "execution_count": 3,
   "id": "188356a9",
   "metadata": {},
   "outputs": [],
   "source": [
    "a_maks=3     #Definere den maksimale værdi af a\n",
    "N = 100      #Definere opløsningen på grafen\n",
    "Lista = np.linspace(0,a_maks,num=N) #indeler a-aksen i 100 ligestore steps\n",
    "Listt1 = np.linspace(0,0,num=N)     #indeler t-aksen, værdierne er ligemeget, da de bliver erstatet senere\n",
    "Listt2 = np.linspace(0,0,num=N)     #Der skal være 3 forskellige Lister til t, da der laves plot af måde flat, og krumt univers.\n",
    "Listt3 = np.linspace(0,0,num=N)\n"
   ]
  },
  {
   "cell_type": "code",
   "execution_count": 4,
   "id": "c5bf52d7",
   "metadata": {},
   "outputs": [
    {
     "name": "stdout",
     "output_type": "stream",
     "text": [
      "1.3048107908487669e-08\n",
      "1.5572934596219502e-08\n",
      "1.0796554659317028e-08\n"
     ]
    }
   ],
   "source": [
    "i = 1            #Index til loop\n",
    "R = 9.0*10**(-5) #Strålings densitets parameter\n",
    "L = 0.6911       #Stof densitets parameter\n",
    "M = 0.3089       #Mørk energi densitets parameter\n",
    "while i < N:     #Integrere funktionen optil a_maks\n",
    "    Listt1[i] = quad(f, 0, Lista[i])[0]\n",
    "    i += 1\n",
    "print(quad(f, 0, 3)[1]) #Printer den estimerede usikkerhed på integrationen\n",
    "i = 1\n",
    "R = 9.0*10**(-5)\n",
    "L = 0.6911+0.0124  #Variablerne igen, men nu den højste værdi som er understøttet \n",
    "M = 0.3089+0.0124  #af målinger inden for en usikkerhed på sigma 2\n",
    "while i < N:\n",
    "    Listt2[i] = quad(f, 0, Lista[i])[0]\n",
    "    i += 1\n",
    "print(quad(f, 0, 3)[1])\n",
    "i = 1\n",
    "R = 9.0*10**(-5)\n",
    "L = 0.6911-0.0124 #Den mindste værdi der ligger indenfor sigma 2 af målingerne\n",
    "M = 0.3089-0.0124\n",
    "while i < N:\n",
    "    Listt3[i] = quad(f, 0, Lista[i])[0]\n",
    "    i += 1\n",
    "print(quad(f, 0, 3)[1])"
   ]
  },
  {
   "cell_type": "code",
   "execution_count": 5,
   "id": "f063fff0",
   "metadata": {},
   "outputs": [
    {
     "data": {
      "image/png": "[encoded data removed]",
      "text/plain": [
       "<Figure size 432x288 with 1 Axes>"
      ]
     },
     "metadata": {
      "needs_background": "light"
     },
     "output_type": "display_data"
    }
   ],
   "source": [
    "plt.plot(Listt1,Lista, color='r', label='Flad')\n",
    "plt.plot(Listt2,Lista, color='g', label='Positiv')\n",
    "plt.plot(Listt3,Lista, color='b', label='Negativ')\n",
    "\n",
    "plt.xlabel('$H_0(t-t_0)$')\n",
    "plt.ylabel('a')\n",
    "\n",
    "plt.legend()\n",
    "\n",
    "plt.show()"
   ]
  },
  {
   "cell_type": "markdown",
   "id": "cb3671e8",
   "metadata": {},
   "source": [
    "Nu laves samme plot igen, men for a op til 60"
   ]
  },
  {
   "cell_type": "code",
   "execution_count": 6,
   "id": "882a593d",
   "metadata": {},
   "outputs": [
    {
     "name": "stdout",
     "output_type": "stream",
     "text": [
      "1.3048107908487669e-08\n",
      "1.5572934596219502e-08\n",
      "1.0796554659317028e-08\n"
     ]
    },
    {
     "data": {
      "text/plain": [
       "<matplotlib.legend.Legend at 0x222e5d394c0>"
      ]
     },
     "execution_count": 6,
     "metadata": {},
     "output_type": "execute_result"
    },
    {
     "data": {
      "image/png": "[encoded data removed]",
      "text/plain": [
       "<Figure size 432x288 with 1 Axes>"
      ]
     },
     "metadata": {
      "needs_background": "light"
     },
     "output_type": "display_data"
    }
   ],
   "source": [
    "a_maks=60\n",
    "N = 100\n",
    "Lista = np.linspace(0,a_maks,num=N)\n",
    "Listt1 = np.linspace(0,0,num=N)\n",
    "Listt2 = np.linspace(0,0,num=N)\n",
    "Listt3 = np.linspace(0,0,num=N)\n",
    "i = 1\n",
    "R = 9.0*10**(-5)\n",
    "L = 0.6911\n",
    "M = 0.3089\n",
    "while i < N:\n",
    "    Listt1[i] = quad(f, 0, Lista[i])[0]\n",
    "    i += 1\n",
    "print(quad(f, 0, 3)[1])\n",
    "i = 1\n",
    "R = 9.0*10**(-5)\n",
    "L = 0.6911+0.0124\n",
    "M = 0.3089+0.0124\n",
    "while i < N:\n",
    "    Listt2[i] = quad(f, 0, Lista[i])[0]\n",
    "    i += 1\n",
    "print(quad(f, 0, 3)[1])\n",
    "i = 1\n",
    "R = 9.0*10**(-5)\n",
    "L = 0.6911-0.0124\n",
    "M = 0.3089-0.0124\n",
    "while i < N:\n",
    "    Listt3[i] = quad(f, 0, Lista[i])[0]\n",
    "    i += 1\n",
    "print(quad(f, 0, 3)[1])\n",
    "plt.plot(Listt1,Lista, color='r', label='Flad')\n",
    "plt.plot(Listt2,Lista, color='g', label='Positiv')\n",
    "plt.plot(Listt3,Lista, color='b', label='Negativ')\n",
    "\n",
    "plt.xlabel('$H_0(t-t_0)$')\n",
    "plt.ylabel('a')\n",
    "\n",
    "plt.legend()"
   ]
  },
  {
   "cell_type": "markdown",
   "id": "ea6955cd",
   "metadata": {},
   "source": []
  },
  {
   "cell_type": "code",
   "execution_count": 7,
   "id": "75dba286",
   "metadata": {},
   "outputs": [
    {
     "name": "stdout",
     "output_type": "stream",
     "text": [
      "1.3048107908487669e-08\n",
      "3.723466542026439e-10\n",
      "1.6922974866021793e-09\n"
     ]
    },
    {
     "data": {
      "image/png": "[encoded data removed]",
      "text/plain": [
       "<Figure size 432x288 with 1 Axes>"
      ]
     },
     "metadata": {
      "needs_background": "light"
     },
     "output_type": "display_data"
    }
   ],
   "source": [
    "a_maks=60\n",
    "N = 100\n",
    "Lista = np.linspace(0,a_maks,num=N)\n",
    "Listt1 = np.linspace(0,0,num=N)\n",
    "Listt2 = np.linspace(0,0,num=N)\n",
    "Listt3 = np.linspace(0,0,num=N)\n",
    "i = 1\n",
    "R = 9.0*10**(-5)\n",
    "L = 0.6911\n",
    "M = 0.3089\n",
    "while i < N:\n",
    "    Listt1[i] = quad(f, 0, Lista[i])[0]\n",
    "    i += 1\n",
    "print(quad(f, 0, 3)[1])\n",
    "i = 1\n",
    "R = 9.0*10**(-5)\n",
    "L = 0.6911+0.1\n",
    "M = 0.3089+0.1\n",
    "while i < N:\n",
    "    Listt2[i] = quad(f, 0, Lista[i])[0]\n",
    "    i += 1\n",
    "print(quad(f, 0, 3)[1])\n",
    "i = 1\n",
    "R = 9.0*10**(-5)\n",
    "L = 0.6911-0.1\n",
    "M = 0.3089-0.1\n",
    "while i < N:\n",
    "    Listt3[i] = quad(f, 0, Lista[i])[0]\n",
    "    i += 1\n",
    "print(quad(f, 0, 3)[1])\n",
    "plt.plot(Listt1,Lista, color='r', label='Flad')\n",
    "plt.plot(Listt2,Lista, color='g', label='Positiv')\n",
    "plt.plot(Listt3,Lista, color='b', label='Negativ')\n",
    "\n",
    "plt.xlabel('$H_0(t-t_0)$')\n",
    "plt.ylabel('a')\n",
    "\n",
    "plt.legend()\n",
    "\n",
    "plt.show()"
   ]
  },
  {
   "cell_type": "code",
   "execution_count": null,
   "id": "3a7add4b",
   "metadata": {},
   "outputs": [],
   "source": []
  }
 ],
 "metadata": {
  "kernelspec": {
   "display_name": "Python 3",
   "language": "python",
   "name": "python3"
  },
  "language_info": {
   "codemirror_mode": {
    "name": "ipython",
    "version": 3
   },
   "file_extension": ".py",
   "mimetype": "text/x-python",
   "name": "python",
   "nbconvert_exporter": "python",
   "pygments_lexer": "ipython3",
   "version": "3.8.8"
  }
 },
 "nbformat": 4,
 "nbformat_minor": 5
}
